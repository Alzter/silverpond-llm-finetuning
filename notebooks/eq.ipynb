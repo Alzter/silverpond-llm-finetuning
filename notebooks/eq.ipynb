{
 "cells": [
  {
   "cell_type": "markdown",
   "id": "66057dd0-3155-4ca5-b7d3-4087416a4b99",
   "metadata": {},
   "source": [
    "# ▶️ Initial Setup"
   ]
  },
  {
   "cell_type": "code",
   "execution_count": 1,
   "id": "3604a738-c56d-4539-8813-d3506e872132",
   "metadata": {},
   "outputs": [],
   "source": [
    "import os\n",
    "os.environ[\"CUDA_VISIBLE_DEVICES\"]=\"1\"\n",
    "ROOT_DIR = \"data/eq/\""
   ]
  },
  {
   "cell_type": "code",
   "execution_count": 2,
   "id": "cbff6379",
   "metadata": {},
   "outputs": [],
   "source": [
    "import os, sys\n",
    "sys.path.append(\"src/\")\n",
    "sys.path.append(\"../src/\")"
   ]
  },
  {
   "cell_type": "code",
   "execution_count": 3,
   "id": "902c19ec-61ce-415e-9251-4e396ba71ad4",
   "metadata": {},
   "outputs": [],
   "source": [
    "# Import modules for LLM finetuning and evaluation\n",
    "import finetune as ft\n",
    "import evaluate as ev"
   ]
  },
  {
   "cell_type": "code",
   "execution_count": 29,
   "id": "2b9f0f8e-3fe6-4aa6-88a2-abaf37506d0b",
   "metadata": {},
   "outputs": [],
   "source": [
    "import model_prompts as prompts\n",
    "from evaluate import EvaluationConfig\n",
    "\n",
    "def evaluate_model(configurations, model, tokenizer, label_names, eval_dataset):\n",
    "    results = []\n",
    "    for config in configurations:\n",
    "        result = ev.evaluate(\n",
    "            model=model, tokenizer=tokenizer, label_names=label_names,\n",
    "            eval_dataset=dataset['test'], eval_config=config\n",
    "        )\n",
    "        results.append(result)\n",
    "    return results\n",
    "\n",
    "def save_results(results):\n",
    "    for result in results:\n",
    "        result.save(os.path.join(ROOT_DIR, \"results\")) # Saves to \"data/eq/results/<EvaluationConfig.name>\""
   ]
  },
  {
   "cell_type": "markdown",
   "id": "5d44078c-dcfc-487f-80af-56e2dbc04682",
   "metadata": {},
   "source": [
    "# ▶️ Load EQ dataset"
   ]
  },
  {
   "cell_type": "code",
   "execution_count": 5,
   "id": "ff34660a-9f23-47fc-8478-3268c68db277",
   "metadata": {},
   "outputs": [],
   "source": [
    "import pandas as pd\n",
    "\n",
    "data = pd.read_csv(\n",
    "    os.path.join(ROOT_DIR, \"datasets/preprocessed.csv\"),\n",
    "    low_memory=False)"
   ]
  },
  {
   "cell_type": "code",
   "execution_count": 6,
   "id": "3a7745a8",
   "metadata": {},
   "outputs": [],
   "source": [
    "input_features = [\n",
    "\"OUTAGE_ID\",\n",
    "\"WEATHER_CONDITION\",\n",
    "\"OUTAGE_CAUSE\",\n",
    "\"FAULT_LONG_DESCRIPTION\",\n",
    "\"SHORT_DESC_2\",\n",
    "\"WORK_ORDER_COMPONENT_CODE_DESCRIPTION\",\n",
    "\"OUTAGE_CAUSE_GROUP\",\n",
    "\"OUTAGE_STANDARD_REASON_DESCRIPTION\",\n",
    "\"REASON_FOR_INTERRUPTION\",\n",
    "\"PROVIDER\"\n",
    "]\n",
    "\n",
    "output_labels = [\n",
    "    \"MSSS_OBJECT_DESCRIPTION\",\n",
    "    \"MSSS_DAMAGE_DESCRIPTION\",\n",
    "    \"MSSS_CAUSE_DESCRIPTION\"\n",
    "]"
   ]
  },
  {
   "cell_type": "code",
   "execution_count": 7,
   "id": "f4c10c8c",
   "metadata": {},
   "outputs": [],
   "source": [
    "# Shuffle the data in a deterministic way\n",
    "data = data.sample(frac=1, random_state=42)"
   ]
  },
  {
   "cell_type": "code",
   "execution_count": 8,
   "id": "7c8be1fe",
   "metadata": {},
   "outputs": [],
   "source": [
    "# Supervised dataset\n",
    "data_train = data.dropna(subset=output_labels, how='any')\n",
    "\n",
    "# Unsupervised dataset\n",
    "data_eval = data.drop(data_train.index)"
   ]
  },
  {
   "cell_type": "code",
   "execution_count": 10,
   "id": "b958f4ab-8e51-4186-a009-473847765c1d",
   "metadata": {},
   "outputs": [
    {
     "data": {
      "application/vnd.jupyter.widget-view+json": {
       "model_id": "8e2863643e0244e2a02b06c0480922f8",
       "version_major": 2,
       "version_minor": 0
      },
      "text/plain": [
       "Casting to class labels:   0%|          | 0/17166 [00:00<?, ? examples/s]"
      ]
     },
     "metadata": {},
     "output_type": "display_data"
    },
    {
     "data": {
      "application/vnd.jupyter.widget-view+json": {
       "model_id": "5bf6581ee25f4588a78836bcfeb40e31",
       "version_major": 2,
       "version_minor": 0
      },
      "text/plain": [
       "Casting to class labels:   0%|          | 0/17166 [00:00<?, ? examples/s]"
      ]
     },
     "metadata": {},
     "output_type": "display_data"
    },
    {
     "data": {
      "application/vnd.jupyter.widget-view+json": {
       "model_id": "40e65e7a4d2840e7a205338fbd172682",
       "version_major": 2,
       "version_minor": 0
      },
      "text/plain": [
       "Casting to class labels:   0%|          | 0/17166 [00:00<?, ? examples/s]"
      ]
     },
     "metadata": {},
     "output_type": "display_data"
    }
   ],
   "source": [
    "# Convert DataFrame into a Dataset\n",
    "dataset = ft.create_dataset_from_dataframe(data_train, input_features, output_labels, test_size=0.2)"
   ]
  },
  {
   "cell_type": "code",
   "execution_count": 11,
   "id": "74907ad3",
   "metadata": {},
   "outputs": [],
   "source": [
    "# Reduce the size of the dataset for testing purposes\n",
    "dataset['train'] = dataset['train'].shard(5, 0) # First 20% of the train dataset\n",
    "dataset['test'] = dataset['test'].shard(5, 0) # First 20% of the test dataset"
   ]
  },
  {
   "cell_type": "code",
   "execution_count": 12,
   "id": "0fa4b940",
   "metadata": {},
   "outputs": [
    {
     "data": {
      "application/vnd.jupyter.widget-view+json": {
       "model_id": "16e9b21a8ca14702842d703a66d8b37c",
       "version_major": 2,
       "version_minor": 0
      },
      "text/plain": [
       "Map:   0%|          | 0/2747 [00:00<?, ? examples/s]"
      ]
     },
     "metadata": {},
     "output_type": "display_data"
    },
    {
     "data": {
      "application/vnd.jupyter.widget-view+json": {
       "model_id": "17496aa6d5c846fb8834d4346015f61d",
       "version_major": 2,
       "version_minor": 0
      },
      "text/plain": [
       "Casting the dataset:   0%|          | 0/2747 [00:00<?, ? examples/s]"
      ]
     },
     "metadata": {},
     "output_type": "display_data"
    },
    {
     "data": {
      "application/vnd.jupyter.widget-view+json": {
       "model_id": "9fb798fa89264ad196fed0e4c4ae4b05",
       "version_major": 2,
       "version_minor": 0
      },
      "text/plain": [
       "Map:   0%|          | 0/2747 [00:00<?, ? examples/s]"
      ]
     },
     "metadata": {},
     "output_type": "display_data"
    },
    {
     "data": {
      "application/vnd.jupyter.widget-view+json": {
       "model_id": "eafa8fa050de4e98ac62726a029d707f",
       "version_major": 2,
       "version_minor": 0
      },
      "text/plain": [
       "Casting the dataset:   0%|          | 0/2747 [00:00<?, ? examples/s]"
      ]
     },
     "metadata": {},
     "output_type": "display_data"
    },
    {
     "data": {
      "application/vnd.jupyter.widget-view+json": {
       "model_id": "b1d3e59a281a4630a27f4dff3b49efa8",
       "version_major": 2,
       "version_minor": 0
      },
      "text/plain": [
       "Map:   0%|          | 0/2747 [00:00<?, ? examples/s]"
      ]
     },
     "metadata": {},
     "output_type": "display_data"
    },
    {
     "data": {
      "application/vnd.jupyter.widget-view+json": {
       "model_id": "1f9dfb84b73f460597d548d0f843cd0b",
       "version_major": 2,
       "version_minor": 0
      },
      "text/plain": [
       "Casting the dataset:   0%|          | 0/2747 [00:00<?, ? examples/s]"
      ]
     },
     "metadata": {},
     "output_type": "display_data"
    },
    {
     "data": {
      "application/vnd.jupyter.widget-view+json": {
       "model_id": "73941904a26041fcb489aa6c0903a6c6",
       "version_major": 2,
       "version_minor": 0
      },
      "text/plain": [
       "Map:   0%|          | 0/2747 [00:00<?, ? examples/s]"
      ]
     },
     "metadata": {},
     "output_type": "display_data"
    },
    {
     "data": {
      "application/vnd.jupyter.widget-view+json": {
       "model_id": "4e65daddce534389a04f4bd610fdd0ed",
       "version_major": 2,
       "version_minor": 0
      },
      "text/plain": [
       "Map:   0%|          | 0/2747 [00:00<?, ? examples/s]"
      ]
     },
     "metadata": {},
     "output_type": "display_data"
    },
    {
     "data": {
      "application/vnd.jupyter.widget-view+json": {
       "model_id": "07dcd2bdbcc9414f8ef7e51d2635f838",
       "version_major": 2,
       "version_minor": 0
      },
      "text/plain": [
       "Map:   0%|          | 0/2747 [00:00<?, ? examples/s]"
      ]
     },
     "metadata": {},
     "output_type": "display_data"
    },
    {
     "data": {
      "application/vnd.jupyter.widget-view+json": {
       "model_id": "9ef3bb00e86449bd894a21bdf18480fa",
       "version_major": 2,
       "version_minor": 0
      },
      "text/plain": [
       "Map:   0%|          | 0/687 [00:00<?, ? examples/s]"
      ]
     },
     "metadata": {},
     "output_type": "display_data"
    },
    {
     "data": {
      "application/vnd.jupyter.widget-view+json": {
       "model_id": "93efe59d9e1645e08c0a0bfacf3db172",
       "version_major": 2,
       "version_minor": 0
      },
      "text/plain": [
       "Casting the dataset:   0%|          | 0/687 [00:00<?, ? examples/s]"
      ]
     },
     "metadata": {},
     "output_type": "display_data"
    },
    {
     "data": {
      "application/vnd.jupyter.widget-view+json": {
       "model_id": "4c14a841f56040a19583e2a5ce14c34c",
       "version_major": 2,
       "version_minor": 0
      },
      "text/plain": [
       "Map:   0%|          | 0/687 [00:00<?, ? examples/s]"
      ]
     },
     "metadata": {},
     "output_type": "display_data"
    },
    {
     "data": {
      "application/vnd.jupyter.widget-view+json": {
       "model_id": "056efbfc891342268c97449d68781cb1",
       "version_major": 2,
       "version_minor": 0
      },
      "text/plain": [
       "Casting the dataset:   0%|          | 0/687 [00:00<?, ? examples/s]"
      ]
     },
     "metadata": {},
     "output_type": "display_data"
    },
    {
     "data": {
      "application/vnd.jupyter.widget-view+json": {
       "model_id": "7dd821a44b874a138d8ce001680936e2",
       "version_major": 2,
       "version_minor": 0
      },
      "text/plain": [
       "Map:   0%|          | 0/687 [00:00<?, ? examples/s]"
      ]
     },
     "metadata": {},
     "output_type": "display_data"
    },
    {
     "data": {
      "application/vnd.jupyter.widget-view+json": {
       "model_id": "9ee425fbcbe74340a0a4f092485e82ad",
       "version_major": 2,
       "version_minor": 0
      },
      "text/plain": [
       "Casting the dataset:   0%|          | 0/687 [00:00<?, ? examples/s]"
      ]
     },
     "metadata": {},
     "output_type": "display_data"
    },
    {
     "data": {
      "application/vnd.jupyter.widget-view+json": {
       "model_id": "8161a291d3ae423eb02b00add5b4bd9a",
       "version_major": 2,
       "version_minor": 0
      },
      "text/plain": [
       "Map:   0%|          | 0/687 [00:00<?, ? examples/s]"
      ]
     },
     "metadata": {},
     "output_type": "display_data"
    },
    {
     "data": {
      "application/vnd.jupyter.widget-view+json": {
       "model_id": "b7d41b0c02964509b9aedded199f2ba8",
       "version_major": 2,
       "version_minor": 0
      },
      "text/plain": [
       "Map:   0%|          | 0/687 [00:00<?, ? examples/s]"
      ]
     },
     "metadata": {},
     "output_type": "display_data"
    },
    {
     "data": {
      "application/vnd.jupyter.widget-view+json": {
       "model_id": "0d5444f935804e66917aaa72d9766529",
       "version_major": 2,
       "version_minor": 0
      },
      "text/plain": [
       "Map:   0%|          | 0/687 [00:00<?, ? examples/s]"
      ]
     },
     "metadata": {},
     "output_type": "display_data"
    }
   ],
   "source": [
    "# Preprocess the dataset into a form usable for supervised finetuning\n",
    "dataset, label_names = ft.preprocess_dataset(dataset,text_columns=input_features,label_columns=output_labels)"
   ]
  },
  {
   "cell_type": "markdown",
   "id": "08f8fe57-8936-4b78-a75b-1c31b8cedc1e",
   "metadata": {},
   "source": [
    "# ▶️ Load Baseline LLM"
   ]
  },
  {
   "cell_type": "code",
   "execution_count": 13,
   "id": "b81d26a1-5028-4f82-bfa4-f5ad3ebaed91",
   "metadata": {},
   "outputs": [],
   "source": [
    "MODEL_ID = \"Qwen/Qwen2.5-7B-Instruct\"\n",
    "MODEL_DEVICE = \"cuda:0\"\n",
    "QUANTIZED = True # Load model with 4-bit quantization"
   ]
  },
  {
   "cell_type": "code",
   "execution_count": 14,
   "id": "8721a682-05ab-47c9-81ad-c17c28596e6f",
   "metadata": {},
   "outputs": [
    {
     "data": {
      "application/vnd.jupyter.widget-view+json": {
       "model_id": "e6767d1460c142d38ff626f9a26d003f",
       "version_major": 2,
       "version_minor": 0
      },
      "text/plain": [
       "Loading checkpoint shards:   0%|          | 0/4 [00:00<?, ?it/s]"
      ]
     },
     "metadata": {},
     "output_type": "display_data"
    }
   ],
   "source": [
    "from transformers import AutoTokenizer, AutoModelForCausalLM, BitsAndBytesConfig\n",
    "import torch\n",
    "\n",
    "# Same quantization configuration as QLoRA\n",
    "bnb_config = BitsAndBytesConfig(\n",
    "    load_in_4bit = True,\n",
    "    bnb_4bit_quant_type = \"nf4\",\n",
    "    bnb_4bit_use_double_quant = True,\n",
    "    bnb_4bit_compute_dtype = torch.float16\n",
    ") if QUANTIZED else None\n",
    "\n",
    "model = AutoModelForCausalLM.from_pretrained(\n",
    "    MODEL_ID,\n",
    "    quantization_config=bnb_config,\n",
    "    device_map=MODEL_DEVICE,\n",
    "    use_cache=False # use_cache is incompatible with gradient checkpointing\n",
    ")\n",
    "\n",
    "tokenizer = AutoTokenizer.from_pretrained(MODEL_ID)"
   ]
  },
  {
   "cell_type": "markdown",
   "id": "fbee3cf1-328f-4f9f-a3ad-7a0cd6fb057a",
   "metadata": {},
   "source": [
    "# ▶️ Evaluate Baseline LLM"
   ]
  },
  {
   "cell_type": "code",
   "execution_count": 27,
   "id": "22b666b7",
   "metadata": {},
   "outputs": [],
   "source": [
    "labels = list(label_names.keys())\n",
    "values = list(label_names.values())\n",
    "PROMPT = f\"\"\"You are an expert at classifying power outage reports.\n",
    "\n",
    "You are given three classification tasks.\n",
    "You should output the result as a two json fields as {{\"MSSS_OBJECT_DESCRIPTION\" : \"object_label\", \"MSSS_DAMAGE_DESCRIPTION\" : \"damage_label\", \"MSSS_CAUSE_DESCRIPTION\" : \"cause_label\"}}\n",
    "For {labels[0]}, given the outage report, you are asked to classify it as one of the labels in the list {values[0]} and change object_label to the correct label in the list.\n",
    "For {labels[1]}, given the outage report, you are asked to classify it as one of the labels in the list {values[1]} and change damage_label to the correct label in the list.\n",
    "For {labels[2]}, given the outage report, you are asked to classify it as one of the labels in the list {values[2]} and change cause_label to the correct label in the list.\n",
    "\n",
    "Output the three json fields only and absolutely nothing else.\n",
    "Now it is your turn.\"\"\""
   ]
  },
  {
   "cell_type": "code",
   "execution_count": 44,
   "id": "f426619a",
   "metadata": {},
   "outputs": [
    {
     "data": {
      "text/html": [
       "<div>\n",
       "<style scoped>\n",
       "    .dataframe tbody tr th:only-of-type {\n",
       "        vertical-align: middle;\n",
       "    }\n",
       "\n",
       "    .dataframe tbody tr th {\n",
       "        vertical-align: top;\n",
       "    }\n",
       "\n",
       "    .dataframe thead th {\n",
       "        text-align: right;\n",
       "    }\n",
       "</style>\n",
       "<table border=\"1\" class=\"dataframe\">\n",
       "  <thead>\n",
       "    <tr style=\"text-align: right;\">\n",
       "      <th></th>\n",
       "      <th>WEATHER_CONDITION</th>\n",
       "      <th>OUTAGE_CAUSE</th>\n",
       "      <th>FAULT_LONG_DESCRIPTION</th>\n",
       "      <th>SHORT_DESC_2</th>\n",
       "      <th>WORK_ORDER_COMPONENT_CODE_DESCRIPTION</th>\n",
       "      <th>OUTAGE_CAUSE_GROUP</th>\n",
       "      <th>OUTAGE_STANDARD_REASON_DESCRIPTION</th>\n",
       "      <th>REASON_FOR_INTERRUPTION</th>\n",
       "      <th>MSSS_OBJECT_DESCRIPTION</th>\n",
       "      <th>MSSS_DAMAGE_DESCRIPTION</th>\n",
       "      <th>MSSS_CAUSE_DESCRIPTION</th>\n",
       "      <th>OUTAGE_ID</th>\n",
       "      <th>PROVIDER</th>\n",
       "    </tr>\n",
       "  </thead>\n",
       "  <tbody>\n",
       "    <tr>\n",
       "      <th>20052</th>\n",
       "      <td>Fine</td>\n",
       "      <td>Animal impact</td>\n",
       "      <td>Fault occurred at:30/11/2023 18:20; John, 0417...</td>\n",
       "      <td>H - HV Fuse Down</td>\n",
       "      <td>Fuse</td>\n",
       "      <td>Wildlife</td>\n",
       "      <td>Unknown</td>\n",
       "      <td>Animal</td>\n",
       "      <td>EDO Unit, Unknown</td>\n",
       "      <td>Disconnected</td>\n",
       "      <td>Unknown</td>\n",
       "      <td>2024838</td>\n",
       "      <td>Ergon Energy</td>\n",
       "    </tr>\n",
       "    <tr>\n",
       "      <th>29232</th>\n",
       "      <td>Little or no rain, little or no wind</td>\n",
       "      <td>Network - Other ENERGEX</td>\n",
       "      <td>NaN</td>\n",
       "      <td>NaN</td>\n",
       "      <td>NaN</td>\n",
       "      <td>Equipment Other</td>\n",
       "      <td>NaN</td>\n",
       "      <td>NaN</td>\n",
       "      <td>No Fault Found</td>\n",
       "      <td>No Fault Found</td>\n",
       "      <td>No Fault Found</td>\n",
       "      <td>INCD-753763-G</td>\n",
       "      <td>Energex</td>\n",
       "    </tr>\n",
       "    <tr>\n",
       "      <th>22996</th>\n",
       "      <td>Fine</td>\n",
       "      <td>Distribution substation</td>\n",
       "      <td>Electrician-&gt;Fault occurred at:27/02/2024 14:0...</td>\n",
       "      <td>T - Tingle / Shock</td>\n",
       "      <td>Transformer-Distribution</td>\n",
       "      <td>Equipment Failure</td>\n",
       "      <td>Unknown</td>\n",
       "      <td>Asset failure</td>\n",
       "      <td>Tx, Tank Body</td>\n",
       "      <td>Broken</td>\n",
       "      <td>Unknown</td>\n",
       "      <td>2060272</td>\n",
       "      <td>Ergon Energy</td>\n",
       "    </tr>\n",
       "    <tr>\n",
       "      <th>14880</th>\n",
       "      <td>Wind</td>\n",
       "      <td>Service Fuse Blown</td>\n",
       "      <td>Fault occurred at:19/08/2023 11:17; Jared, 043...</td>\n",
       "      <td>U - Unknown / No Power</td>\n",
       "      <td>Fuse</td>\n",
       "      <td>Equipment Failure</td>\n",
       "      <td>Unknown</td>\n",
       "      <td>Other</td>\n",
       "      <td>LV Fuse, Unknown</td>\n",
       "      <td>Burnt Off</td>\n",
       "      <td>Unknown</td>\n",
       "      <td>2001895</td>\n",
       "      <td>Ergon Energy</td>\n",
       "    </tr>\n",
       "    <tr>\n",
       "      <th>33203</th>\n",
       "      <td>Little or no rain, little or no wind</td>\n",
       "      <td>General - Overload</td>\n",
       "      <td>blown b phase bundle box fuses</td>\n",
       "      <td>NaN</td>\n",
       "      <td>NaN</td>\n",
       "      <td>Other</td>\n",
       "      <td>NaN</td>\n",
       "      <td>NaN</td>\n",
       "      <td>Fuse</td>\n",
       "      <td>Blown</td>\n",
       "      <td>Current Overload</td>\n",
       "      <td>INCD-735309-G</td>\n",
       "      <td>Energex</td>\n",
       "    </tr>\n",
       "    <tr>\n",
       "      <th>...</th>\n",
       "      <td>...</td>\n",
       "      <td>...</td>\n",
       "      <td>...</td>\n",
       "      <td>...</td>\n",
       "      <td>...</td>\n",
       "      <td>...</td>\n",
       "      <td>...</td>\n",
       "      <td>...</td>\n",
       "      <td>...</td>\n",
       "      <td>...</td>\n",
       "      <td>...</td>\n",
       "      <td>...</td>\n",
       "      <td>...</td>\n",
       "    </tr>\n",
       "    <tr>\n",
       "      <th>11284</th>\n",
       "      <td>NaN</td>\n",
       "      <td>NaN</td>\n",
       "      <td>Fault occurred at:13/04/2024 10:50; JIM HILL, ...</td>\n",
       "      <td>U - Unknown / No Power</td>\n",
       "      <td>Fuse</td>\n",
       "      <td>NaN</td>\n",
       "      <td>Public Safety Isolation - NOT Directed by Emer...</td>\n",
       "      <td>NaN</td>\n",
       "      <td>EDO Unit, Unknown</td>\n",
       "      <td>Fault Clearance</td>\n",
       "      <td>Animal</td>\n",
       "      <td>2070256</td>\n",
       "      <td>Ergon Energy</td>\n",
       "    </tr>\n",
       "    <tr>\n",
       "      <th>44732</th>\n",
       "      <td>Little or no rain, little or no wind</td>\n",
       "      <td>General - Overload</td>\n",
       "      <td>unknown. abuse blown drop ouot</td>\n",
       "      <td>NaN</td>\n",
       "      <td>NaN</td>\n",
       "      <td>Other</td>\n",
       "      <td>NaN</td>\n",
       "      <td>NaN</td>\n",
       "      <td>Fuse</td>\n",
       "      <td>Blown</td>\n",
       "      <td>Current Overload</td>\n",
       "      <td>INCD-683702-G</td>\n",
       "      <td>Energex</td>\n",
       "    </tr>\n",
       "    <tr>\n",
       "      <th>38158</th>\n",
       "      <td>Little or no rain, little or no wind</td>\n",
       "      <td>General - No Cause Reported</td>\n",
       "      <td>NaN</td>\n",
       "      <td>NaN</td>\n",
       "      <td>NaN</td>\n",
       "      <td>No Cause</td>\n",
       "      <td>NaN</td>\n",
       "      <td>NaN</td>\n",
       "      <td>NaN</td>\n",
       "      <td>NaN</td>\n",
       "      <td>NaN</td>\n",
       "      <td>INCD-713295-G</td>\n",
       "      <td>Energex</td>\n",
       "    </tr>\n",
       "    <tr>\n",
       "      <th>860</th>\n",
       "      <td>NaN</td>\n",
       "      <td>NaN</td>\n",
       "      <td>Fault occurred at:02/10/2023 18:30; Lynette Wi...</td>\n",
       "      <td>P - Phase Down (LV)</td>\n",
       "      <td>Fuse</td>\n",
       "      <td>NaN</td>\n",
       "      <td>Public Safety Isolation - NOT Directed by Emer...</td>\n",
       "      <td>NaN</td>\n",
       "      <td>NaN</td>\n",
       "      <td>Blown</td>\n",
       "      <td>Unknown</td>\n",
       "      <td>2010450</td>\n",
       "      <td>Ergon Energy</td>\n",
       "    </tr>\n",
       "    <tr>\n",
       "      <th>15795</th>\n",
       "      <td>Fine</td>\n",
       "      <td>Service Fuse Blown</td>\n",
       "      <td>Fault occurred at:28/04/2024 17:44; PETER HALL...</td>\n",
       "      <td>U - Unknown / No Power</td>\n",
       "      <td>Fuse</td>\n",
       "      <td>Equipment Failure</td>\n",
       "      <td>Unknown</td>\n",
       "      <td>Other</td>\n",
       "      <td>Service Fuse - Supply End</td>\n",
       "      <td>Burnt Partly</td>\n",
       "      <td>Unknown</td>\n",
       "      <td>2073168</td>\n",
       "      <td>Ergon Energy</td>\n",
       "    </tr>\n",
       "  </tbody>\n",
       "</table>\n",
       "<p>46129 rows × 13 columns</p>\n",
       "</div>"
      ],
      "text/plain": [
       "                          WEATHER_CONDITION                 OUTAGE_CAUSE  \\\n",
       "20052                                  Fine                Animal impact   \n",
       "29232  Little or no rain, little or no wind      Network - Other ENERGEX   \n",
       "22996                                  Fine      Distribution substation   \n",
       "14880                                  Wind           Service Fuse Blown   \n",
       "33203  Little or no rain, little or no wind           General - Overload   \n",
       "...                                     ...                          ...   \n",
       "11284                                   NaN                          NaN   \n",
       "44732  Little or no rain, little or no wind           General - Overload   \n",
       "38158  Little or no rain, little or no wind  General - No Cause Reported   \n",
       "860                                     NaN                          NaN   \n",
       "15795                                  Fine           Service Fuse Blown   \n",
       "\n",
       "                                  FAULT_LONG_DESCRIPTION  \\\n",
       "20052  Fault occurred at:30/11/2023 18:20; John, 0417...   \n",
       "29232                                                NaN   \n",
       "22996  Electrician->Fault occurred at:27/02/2024 14:0...   \n",
       "14880  Fault occurred at:19/08/2023 11:17; Jared, 043...   \n",
       "33203                     blown b phase bundle box fuses   \n",
       "...                                                  ...   \n",
       "11284  Fault occurred at:13/04/2024 10:50; JIM HILL, ...   \n",
       "44732                     unknown. abuse blown drop ouot   \n",
       "38158                                                NaN   \n",
       "860    Fault occurred at:02/10/2023 18:30; Lynette Wi...   \n",
       "15795  Fault occurred at:28/04/2024 17:44; PETER HALL...   \n",
       "\n",
       "                 SHORT_DESC_2 WORK_ORDER_COMPONENT_CODE_DESCRIPTION  \\\n",
       "20052        H - HV Fuse Down                                  Fuse   \n",
       "29232                     NaN                                   NaN   \n",
       "22996      T - Tingle / Shock              Transformer-Distribution   \n",
       "14880  U - Unknown / No Power                                  Fuse   \n",
       "33203                     NaN                                   NaN   \n",
       "...                       ...                                   ...   \n",
       "11284  U - Unknown / No Power                                  Fuse   \n",
       "44732                     NaN                                   NaN   \n",
       "38158                     NaN                                   NaN   \n",
       "860       P - Phase Down (LV)                                  Fuse   \n",
       "15795  U - Unknown / No Power                                  Fuse   \n",
       "\n",
       "      OUTAGE_CAUSE_GROUP                 OUTAGE_STANDARD_REASON_DESCRIPTION  \\\n",
       "20052           Wildlife                                            Unknown   \n",
       "29232    Equipment Other                                                NaN   \n",
       "22996  Equipment Failure                                            Unknown   \n",
       "14880  Equipment Failure                                            Unknown   \n",
       "33203              Other                                                NaN   \n",
       "...                  ...                                                ...   \n",
       "11284                NaN  Public Safety Isolation - NOT Directed by Emer...   \n",
       "44732              Other                                                NaN   \n",
       "38158           No Cause                                                NaN   \n",
       "860                  NaN  Public Safety Isolation - NOT Directed by Emer...   \n",
       "15795  Equipment Failure                                            Unknown   \n",
       "\n",
       "      REASON_FOR_INTERRUPTION    MSSS_OBJECT_DESCRIPTION  \\\n",
       "20052                  Animal          EDO Unit, Unknown   \n",
       "29232                     NaN             No Fault Found   \n",
       "22996           Asset failure              Tx, Tank Body   \n",
       "14880                   Other           LV Fuse, Unknown   \n",
       "33203                     NaN                       Fuse   \n",
       "...                       ...                        ...   \n",
       "11284                     NaN          EDO Unit, Unknown   \n",
       "44732                     NaN                       Fuse   \n",
       "38158                     NaN                        NaN   \n",
       "860                       NaN                        NaN   \n",
       "15795                   Other  Service Fuse - Supply End   \n",
       "\n",
       "      MSSS_DAMAGE_DESCRIPTION MSSS_CAUSE_DESCRIPTION      OUTAGE_ID  \\\n",
       "20052            Disconnected                Unknown        2024838   \n",
       "29232          No Fault Found         No Fault Found  INCD-753763-G   \n",
       "22996                  Broken                Unknown        2060272   \n",
       "14880               Burnt Off                Unknown        2001895   \n",
       "33203                   Blown       Current Overload  INCD-735309-G   \n",
       "...                       ...                    ...            ...   \n",
       "11284         Fault Clearance                 Animal        2070256   \n",
       "44732                   Blown       Current Overload  INCD-683702-G   \n",
       "38158                     NaN                    NaN  INCD-713295-G   \n",
       "860                     Blown                Unknown        2010450   \n",
       "15795            Burnt Partly                Unknown        2073168   \n",
       "\n",
       "           PROVIDER  \n",
       "20052  Ergon Energy  \n",
       "29232       Energex  \n",
       "22996  Ergon Energy  \n",
       "14880  Ergon Energy  \n",
       "33203       Energex  \n",
       "...             ...  \n",
       "11284  Ergon Energy  \n",
       "44732       Energex  \n",
       "38158       Energex  \n",
       "860    Ergon Energy  \n",
       "15795  Ergon Energy  \n",
       "\n",
       "[46129 rows x 13 columns]"
      ]
     },
     "execution_count": 44,
     "metadata": {},
     "output_type": "execute_result"
    }
   ],
   "source": [
    "data"
   ]
  },
  {
   "cell_type": "code",
   "execution_count": 28,
   "id": "7490271f-82e2-4c33-abb0-5f1cb695436d",
   "metadata": {},
   "outputs": [],
   "source": [
    "# Configurations for the baseline LLM\n",
    "baseline_configurations = [\n",
    "    EvaluationConfig(\n",
    "        name=\"Zero-shot Multi-task\",\n",
    "        prompt=PROMPT,\n",
    "        max_tokens=50\n",
    "    )\n",
    "]"
   ]
  },
  {
   "cell_type": "code",
   "execution_count": null,
   "id": "45e14f47",
   "metadata": {},
   "outputs": [
    {
     "data": {
      "application/vnd.jupyter.widget-view+json": {
       "model_id": "f875db35b40b42858e39881163ac064a",
       "version_major": 2,
       "version_minor": 0
      },
      "text/plain": [
       "Evaluating model:   0%|          | 0/687 [00:00<?, ?it/s]"
      ]
     },
     "metadata": {},
     "output_type": "display_data"
    }
   ],
   "source": [
    "baseline_results = evaluate_model(baseline_configurations, model=model, tokenizer=tokenizer, label_names=label_names, eval_dataset=dataset['test'])"
   ]
  },
  {
   "cell_type": "code",
   "execution_count": 34,
   "id": "19e74c4d",
   "metadata": {},
   "outputs": [
    {
     "data": {
      "image/png": "[encoded data removed]",
      "text/plain": [
       "<Figure size 640x480 with 2 Axes>"
      ]
     },
     "metadata": {},
     "output_type": "display_data"
    },
    {
     "data": {
      "image/png": "[encoded data removed]",
      "text/plain": [
       "<Figure size 640x480 with 2 Axes>"
      ]
     },
     "metadata": {},
     "output_type": "display_data"
    },
    {
     "data": {
      "image/png": "[encoded data removed]",
      "text/plain": [
       "<Figure size 640x480 with 2 Axes>"
      ]
     },
     "metadata": {},
     "output_type": "display_data"
    }
   ],
   "source": [
    "save_results(baseline_results)"
   ]
  },
  {
   "cell_type": "markdown",
   "id": "dc0eaf7f",
   "metadata": {},
   "source": [
    "# ▶️ Finetune LLM"
   ]
  },
  {
   "cell_type": "code",
   "execution_count": 21,
   "id": "2b7396b8",
   "metadata": {},
   "outputs": [],
   "source": [
    "FINETUNED_LLM_PATH = os.path.join(ROOT_DIR, \"models/Qwen2.5-FT-EQ-1\")\n",
    "\n",
    "LORA_RANK_DIMENSION = 6 # the rank of the adapter, the lower the fewer parameters you'll need to train. (smaller = more compression)\n",
    "LORA_ALPHA = 8 # this is the scaling factor for LoRA layers (higher = stronger adaptation)\n",
    "LORA_DROPOUT = 0.05 # dropout probability for LoRA layers (helps prevent overfitting)\n",
    "MAX_SEQ_LENGTH = 64\n",
    "EPOCHS=2\n",
    "LEARNING_RATE=2e-4"
   ]
  },
  {
   "cell_type": "code",
   "execution_count": 22,
   "id": "0dd13482",
   "metadata": {},
   "outputs": [],
   "source": [
    "from peft import LoraConfig\n",
    "\n",
    "lora_config = LoraConfig(\n",
    "    r=LORA_RANK_DIMENSION,\n",
    "    lora_alpha=LORA_ALPHA,\n",
    "    bias=\"none\",\n",
    "    lora_dropout=LORA_DROPOUT,\n",
    "    task_type=\"CAUSAL_LM\"\n",
    ")"
   ]
  },
  {
   "cell_type": "code",
   "execution_count": 23,
   "id": "988d0b0b",
   "metadata": {},
   "outputs": [],
   "source": [
    "from trl import SFTConfig, SFTTrainer\n",
    "\n",
    "sft_config = SFTConfig(\n",
    "    gradient_checkpointing=True,\n",
    "    gradient_checkpointing_kwargs={'use_reentrant': False},\n",
    "    gradient_accumulation_steps=1,\n",
    "    per_device_train_batch_size=16,\n",
    "    auto_find_batch_size=True,\n",
    "    \n",
    "    max_seq_length=MAX_SEQ_LENGTH,\n",
    "    packing=True,\n",
    "    \n",
    "    num_train_epochs=EPOCHS,\n",
    "    learning_rate=LEARNING_RATE,\n",
    "    optim='adamw_torch_fused',\n",
    "    warmup_ratio=0.03,\n",
    "    lr_scheduler_type=\"constant\", \n",
    "    \n",
    "    logging_steps=10,\n",
    "    logging_dir='./logs',\n",
    "    output_dir=FINETUNED_LLM_PATH,\n",
    "    report_to='none'\n",
    ")"
   ]
  },
  {
   "cell_type": "code",
   "execution_count": null,
   "id": "cde7a7bb",
   "metadata": {},
   "outputs": [],
   "source": [
    "history = ft.finetune( # Will save the model to the directory: FINETUNED_LLM_PATH\n",
    "    model=model, tokenizer=tokenizer,\n",
    "    train_dataset=dataset['train'],\n",
    "    lora_config=lora_config, sft_config=sft_config\n",
    ")"
   ]
  },
  {
   "cell_type": "code",
   "execution_count": null,
   "id": "5f5f2108",
   "metadata": {},
   "outputs": [],
   "source": [
    "history.to_csv(os.path.join(ROOT_DIR, \"results/loss_history.csv\"), index=False) # Save the training history"
   ]
  },
  {
   "cell_type": "code",
   "execution_count": 37,
   "id": "9ba130a7",
   "metadata": {},
   "outputs": [
    {
     "ename": "NameError",
     "evalue": "name 'history' is not defined",
     "output_type": "error",
     "traceback": [
      "\u001b[0;31m---------------------------------------------------------------------------\u001b[0m",
      "\u001b[0;31mNameError\u001b[0m                                 Traceback (most recent call last)",
      "Cell \u001b[0;32mIn[37], line 6\u001b[0m\n\u001b[1;32m      3\u001b[0m \u001b[38;5;28;01mfrom\u001b[39;00m \u001b[38;5;21;01mmatplotlib\u001b[39;00m \u001b[38;5;28;01mimport\u001b[39;00m pyplot \u001b[38;5;28;01mas\u001b[39;00m plt\n\u001b[1;32m      5\u001b[0m plt\u001b[38;5;241m.\u001b[39mrcParams[\u001b[38;5;124m'\u001b[39m\u001b[38;5;124mfigure.dpi\u001b[39m\u001b[38;5;124m'\u001b[39m] \u001b[38;5;241m=\u001b[39m \u001b[38;5;241m150\u001b[39m\n\u001b[0;32m----> 6\u001b[0m plt\u001b[38;5;241m.\u001b[39mplot(\u001b[43mhistory\u001b[49m\u001b[38;5;241m.\u001b[39mset_index(\u001b[38;5;124m\"\u001b[39m\u001b[38;5;124mStep\u001b[39m\u001b[38;5;124m\"\u001b[39m))\n\u001b[1;32m      7\u001b[0m plt\u001b[38;5;241m.\u001b[39mxlabel(\u001b[38;5;124m\"\u001b[39m\u001b[38;5;124mEpoch\u001b[39m\u001b[38;5;124m\"\u001b[39m)\n\u001b[1;32m      8\u001b[0m plt\u001b[38;5;241m.\u001b[39mylabel(\u001b[38;5;124m\"\u001b[39m\u001b[38;5;124mTraining Loss\u001b[39m\u001b[38;5;124m\"\u001b[39m)\n",
      "\u001b[0;31mNameError\u001b[0m: name 'history' is not defined"
     ]
    }
   ],
   "source": [
    "# Plot the training history and save the plot\n",
    "import math\n",
    "from matplotlib import pyplot as plt\n",
    "\n",
    "plt.rcParams['figure.dpi'] = 150\n",
    "plt.plot(history.set_index(\"Step\"))\n",
    "plt.xlabel(\"Epoch\")\n",
    "plt.ylabel(\"Training Loss\")\n",
    "\n",
    "loss_max = math.ceil(history['Training Loss'].max())\n",
    "plt.ylim([0, loss_max])\n",
    "\n",
    "plt.title(\"Fine-tuning Training History\")\n",
    "\n",
    "path = os.path.join(ROOT_DIR, \"results/loss_history.png\")\n",
    "plt.savefig( path, dpi=200, bbox_inches='tight' )"
   ]
  },
  {
   "cell_type": "markdown",
   "id": "7a6ef836",
   "metadata": {},
   "source": [
    "# ▶️ Load Finetuned LLM"
   ]
  },
  {
   "cell_type": "code",
   "execution_count": 25,
   "id": "45ddadc2",
   "metadata": {},
   "outputs": [],
   "source": [
    "# Unload the baseline model if it exists, otherwise we will probably get an OOM exception\n",
    "import gc, torch\n",
    "\n",
    "if \"bnb_config\" in locals(): del bnb_config\n",
    "if \"tokenizer\" in locals(): del tokenizer\n",
    "if \"model\" in locals(): del model\n",
    "gc.collect()\n",
    "torch.cuda.empty_cache()"
   ]
  },
  {
   "cell_type": "code",
   "execution_count": null,
   "id": "a364d345",
   "metadata": {},
   "outputs": [],
   "source": [
    "# FINETUNED_LLM_PATH = os.path.join(ROOT_DIR, \"models/Qwen2.5-FT-EQ-1\")\n",
    "MODEL_DEVICE = \"cuda:0\"\n",
    "QUANTIZED = True # Load model with 4-bit quantization\n",
    "\n",
    "model, tokenizer = ft.load_finetuned_llm(FINETUNED_LLM_PATH, MODEL_DEVICE, QUANTIZED)"
   ]
  },
  {
   "cell_type": "markdown",
   "id": "ed475c01",
   "metadata": {},
   "source": [
    "# ▶️ Evaluate Finetuned LLM"
   ]
  },
  {
   "cell_type": "code",
   "execution_count": 27,
   "id": "c7afae32",
   "metadata": {},
   "outputs": [],
   "source": [
    "finetuned_configurations = [\n",
    "    EvaluationConfig(\n",
    "        name=\"Fine-tuned Multi-task\",\n",
    "        prompt=None,\n",
    "        max_tokens=50\n",
    "    )\n",
    "]"
   ]
  },
  {
   "cell_type": "code",
   "execution_count": null,
   "id": "82e5d60c",
   "metadata": {},
   "outputs": [],
   "source": [
    "finetuned_results = evaluate_model(finetuned_configurations, model=model, tokenizer=tokenizer, label_names=label_names, eval_dataset=dataset['test'])"
   ]
  },
  {
   "cell_type": "code",
   "execution_count": null,
   "id": "1a364459",
   "metadata": {},
   "outputs": [],
   "source": [
    "save_results(finetuned_results)"
   ]
  },
  {
   "cell_type": "code",
   "execution_count": null,
   "id": "48a86fc9",
   "metadata": {},
   "outputs": [],
   "source": []
  }
 ],
 "metadata": {
  "kernelspec": {
   "display_name": "Python 3 (ipykernel)",
   "language": "python",
   "name": "python3"
  }
 },
 "nbformat": 4,
 "nbformat_minor": 5
}

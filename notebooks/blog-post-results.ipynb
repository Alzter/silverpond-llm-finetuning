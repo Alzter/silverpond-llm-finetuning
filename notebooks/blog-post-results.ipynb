{
 "cells": [
  {
   "cell_type": "code",
   "execution_count": null,
   "id": "f5d641cf-70cc-415d-9875-37c54e6f2bfe",
   "metadata": {},
   "outputs": [],
   "source": [
    "DATA_FILE = \"Fine-tuning LLMs blog post - Raw Data - Sheet1.csv\"\n",
    "import pandas as pd\n",
    "\n",
    "data_file = pd.read_csv(DATA_FILE, header=2)"
   ]
  },
  {
   "cell_type": "code",
   "execution_count": null,
   "id": "13244f83-25dd-4386-94f6-641f44a8bbbf",
   "metadata": {},
   "outputs": [],
   "source": [
    "import numpy as np\n",
    "ROOT_DIR = \"../data/\"\n",
    "\n",
    "results = data_file[\"Result Path\"].replace(np.nan, None).tolist()"
   ]
  },
  {
   "cell_type": "code",
   "execution_count": null,
   "id": "04968c66-7774-4838-96fd-d00c8c7a1862",
   "metadata": {},
   "outputs": [],
   "source": [
    "def get_latency(raw_output_file):\n",
    "    import json\n",
    "    \n",
    "    with open(raw_output_file) as f:\n",
    "        raw_output = json.load(f)\n",
    "    \n",
    "    items = len(raw_output[\"texts\"])\n",
    "    lag = raw_output[\"total_time_elapsed\"]\n",
    "    latency = lag / items\n",
    "    return latency"
   ]
  },
  {
   "cell_type": "code",
   "execution_count": null,
   "id": "fbe07a30-3a5c-474a-8ee5-3ab056d23992",
   "metadata": {},
   "outputs": [],
   "source": [
    "def get_values(label : str, df : pd.DataFrame) -> pd.DataFrame:\n",
    "    return df[ df.iloc[:, 0] == label ]\n",
    "\n",
    "def parse_classification_report(df : pd.DataFrame) -> dict:\n",
    "\n",
    "    report = {}\n",
    "    labels = df.iloc[:, 0].to_list()\n",
    "\n",
    "    for label in labels:\n",
    "        values = get_values(label, df)\n",
    "        if label == 'accuracy':\n",
    "            accuracy = values['precision'].to_list()[0]\n",
    "            report[label] = accuracy\n",
    "        else:\n",
    "            precision, recall, f1, support = values[['precision', 'recall', 'f1-score', 'support']].iloc[0].to_list()\n",
    "            report[label] = {\n",
    "                'precision' : precision,\n",
    "                'recall' : recall,\n",
    "                'f1' : f1,\n",
    "                'support' : support\n",
    "            }\n",
    "\n",
    "    return report\n",
    "\n",
    "def collect_average_metrics(results : dict) -> dict:\n",
    "    avgs = ['macro avg', 'weighted avg']\n",
    "    metrics = ['precision', 'recall', 'f1']\n",
    "    \n",
    "    avg_metrics = {}\n",
    "    avg_metrics['accuracy'] = float(np.mean([i['accuracy'] for i in results.values()]))\n",
    "    \n",
    "    for avg in avgs:\n",
    "        for metric in metrics:\n",
    "\n",
    "            values = [i[avg] for i in results.values()]\n",
    "            values = [i[metric] for i in values]\n",
    "            avg_metrics[metric + \" - \" + avg] = float(np.mean(values))\n",
    "\n",
    "    return avg_metrics"
   ]
  },
  {
   "cell_type": "code",
   "execution_count": null,
   "id": "a0383dff-6726-4ec7-89c0-1e3206b7af6a",
   "metadata": {},
   "outputs": [],
   "source": [
    "import os\n",
    "import pandas as pd\n",
    "import glob\n",
    "import numpy as np\n",
    "import re\n",
    "\n",
    "evaluations = {}\n",
    "\n",
    "for result in results:\n",
    "    if result is None: continue\n",
    "    \n",
    "    path = os.path.join(ROOT_DIR, result)\n",
    "    \n",
    "    classification_reports = glob.glob( os.path.join(path, \"evaluation_*.csv\") )\n",
    "    \n",
    "    if not classification_reports:\n",
    "        print(f\"Could not find results at {path}.\")\n",
    "        continue\n",
    "    \n",
    "    raw_output_file = glob.glob( os.path.join(path, \"raw_output.json\") )[0]\n",
    "    latency = get_latency(raw_output_file)\n",
    "        \n",
    "    evaluation = {}\n",
    "    for report in classification_reports:\n",
    "        label_name = re.findall(r\"evaluation_(.*).csv\", report)[0]\n",
    "\n",
    "        data = pd.read_csv(report)\n",
    "        data = parse_classification_report(data)\n",
    "        evaluation[label_name] = data\n",
    "\n",
    "    avg_metrics = collect_average_metrics(evaluation)\n",
    "\n",
    "    # Insert latency at position 1 of the dict\n",
    "    avg_metrics = list(avg_metrics.items())\n",
    "    avg_metrics.insert(1, (\"latency\", latency))\n",
    "    avg_metrics = dict(avg_metrics)\n",
    "\n",
    "    evaluations[result] = avg_metrics"
   ]
  },
  {
   "cell_type": "code",
   "execution_count": null,
   "id": "1c9affb3-5849-4f9b-be44-815e70f45b54",
   "metadata": {},
   "outputs": [],
   "source": [
    "result = pd.DataFrame(evaluations).transpose()\n",
    "result"
   ]
  },
  {
   "cell_type": "code",
   "execution_count": null,
   "id": "33f8e012-9010-417a-a47c-20434a390924",
   "metadata": {},
   "outputs": [],
   "source": []
  }
 ],
 "metadata": {
  "kernelspec": {
   "display_name": "Python 3 (ipykernel)",
   "language": "python",
   "name": "python3"
  },
  "language_info": {
   "codemirror_mode": {
    "name": "ipython",
    "version": 3
   },
   "file_extension": ".py",
   "mimetype": "text/x-python",
   "name": "python",
   "nbconvert_exporter": "python",
   "pygments_lexer": "ipython3",
   "version": "3.12.9"
  }
 },
 "nbformat": 4,
 "nbformat_minor": 5
}

{
 "cells": [
  {
   "cell_type": "code",
   "execution_count": null,
   "id": "13244f83-25dd-4386-94f6-641f44a8bbbf",
   "metadata": {},
   "outputs": [],
   "source": [
    "ROOT_DIR = \"../data/\"\n",
    "\n",
    "results = [\n",
    "    ROOT_DIR + \"eq/results/fine-tuned_multi-task\"\n",
    "]"
   ]
  },
  {
   "cell_type": "code",
   "execution_count": null,
   "id": "fbe07a30-3a5c-474a-8ee5-3ab056d23992",
   "metadata": {},
   "outputs": [],
   "source": [
    "def get_values(label : str, df : pd.DataFrame) -> pd.DataFrame:\n",
    "    return df[ df.iloc[:, 0] == label ]\n",
    "\n",
    "def parse_classification_report(df : pd.DataFrame) -> dict:\n",
    "\n",
    "    report = {}\n",
    "    labels = df.iloc[:, 0].to_list()\n",
    "\n",
    "    for label in labels:\n",
    "        values = get_values(label, df)\n",
    "        if label == 'accuracy':\n",
    "            accuracy = values['precision'].to_list()[0]\n",
    "            report[label] = accuracy\n",
    "        else:\n",
    "            precision, recall, f1, support = values[['precision', 'recall', 'f1-score', 'support']].iloc[0].to_list()\n",
    "            report[label] = {\n",
    "                'precision' : precision,\n",
    "                'recall' : recall,\n",
    "                'f1' : f1,\n",
    "                'support' : support\n",
    "            }\n",
    "\n",
    "    return report\n",
    "\n",
    "def collect_average_metrics(results : dict) -> dict:\n",
    "    avgs = ['macro avg', 'weighted avg']\n",
    "    metrics = ['precision', 'recall', 'f1']\n",
    "    \n",
    "    avg_metrics = {}\n",
    "    avg_metrics['accuracy'] = float(np.mean([i['accuracy'] for i in results.values()]))\n",
    "    \n",
    "    for avg in avgs:\n",
    "        for metric in metrics:\n",
    "\n",
    "            values = [i[avg] for i in results.values()]\n",
    "            values = [i[metric] for i in values]\n",
    "            avg_metrics[metric + \" - \" + avg] = float(np.mean(values))\n",
    "\n",
    "    return avg_metrics"
   ]
  },
  {
   "cell_type": "code",
   "execution_count": null,
   "id": "debd251d-c4c5-474e-87f6-4301b0b82a0a",
   "metadata": {},
   "outputs": [],
   "source": [
    "pd.DataFrame(evaluations).transpose()"
   ]
  },
  {
   "cell_type": "code",
   "execution_count": null,
   "id": "a0383dff-6726-4ec7-89c0-1e3206b7af6a",
   "metadata": {},
   "outputs": [],
   "source": [
    "import os\n",
    "import pandas as pd\n",
    "import glob\n",
    "import numpy as np\n",
    "\n",
    "evaluations = {}\n",
    "\n",
    "for result in results:\n",
    "\n",
    "    classification_reports = glob.glob( f\"{file}/evaluation_*.csv\" )\n",
    "\n",
    "    evaluation = {}\n",
    "    for report in classification_reports:\n",
    "        label_name = re.findall(r\"evaluation_(.*).csv\", report)[0]\n",
    "        data = pd.read_csv(report)\n",
    "        data = parse_classification_report(data)\n",
    "        evaluation[label_name] = data\n",
    "\n",
    "    avg_metrics = collect_average_metrics(evaluation)\n",
    "\n",
    "    evaluations[result] = avg_metrics"
   ]
  }
 ],
 "metadata": {
  "kernelspec": {
   "display_name": "Python 3 (ipykernel)",
   "language": "python",
   "name": "python3"
  },
  "language_info": {
   "codemirror_mode": {
    "name": "ipython",
    "version": 3
   },
   "file_extension": ".py",
   "mimetype": "text/x-python",
   "name": "python",
   "nbconvert_exporter": "python",
   "pygments_lexer": "ipython3",
   "version": "3.12.9"
  }
 },
 "nbformat": 4,
 "nbformat_minor": 5
}

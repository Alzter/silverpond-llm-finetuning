{
 "cells": [
  {
   "cell_type": "markdown",
   "id": "7f873621-206a-4563-a596-b100eda6dbc9",
   "metadata": {},
   "source": [
    "# Load the OSHA Injuries Dataset"
   ]
  },
  {
   "cell_type": "code",
   "execution_count": 1,
   "id": "0dcc4331-e0e4-4cfd-9266-be4a2550cb08",
   "metadata": {},
   "outputs": [],
   "source": [
    "# Import modules for LLM finetuning and evaluation\n",
    "import finetune as ft\n",
    "import evaluate as ev"
   ]
  },
  {
   "cell_type": "code",
   "execution_count": 2,
   "id": "41ef7c5e-189d-419d-8733-46c05aa10702",
   "metadata": {},
   "outputs": [],
   "source": [
    "import pandas as pd\n",
    "from datasets import Dataset\n",
    "\n",
    "data = pd.read_csv(\"dataset/January2015toJuly2024.csv\", low_memory=False)\n",
    "data[\"NatureTitle\"] = data[\"NatureTitle\"].map(lambda x : x.strip() if type(x) is str else x)"
   ]
  },
  {
   "cell_type": "code",
   "execution_count": 20,
   "id": "cb3701e7-7bec-4b54-a09c-35da4d321d11",
   "metadata": {},
   "outputs": [],
   "source": [
    "pd.set_option('max_colwidth', 0)"
   ]
  },
  {
   "cell_type": "code",
   "execution_count": null,
   "id": "876456b9-d820-478b-8ed1-c535115e84d7",
   "metadata": {},
   "outputs": [],
   "source": [
    "d = data[[\"Employer\", \"Final Narrative\", \"NatureTitle\", \"Part of Body Title\"]].head()\n",
    "\n",
    "d.style.set_properties(**{'text-align': 'left'}).set_table_styles([dict(selector='th', props=[('text-align', 'left')])])"
   ]
  },
  {
   "cell_type": "code",
   "execution_count": null,
   "id": "9f85185c-f345-4106-8143-a8b2e6806740",
   "metadata": {},
   "outputs": [],
   "source": [
    "pd.Series([x.strip() for x in data[\"NatureTitle\"].dropna()]).unique().size"
   ]
  },
  {
   "cell_type": "code",
   "execution_count": null,
   "id": "18e2b7a3-7b86-41be-a0cc-68906a0279e8",
   "metadata": {},
   "outputs": [],
   "source": [
    "len(data)"
   ]
  },
  {
   "cell_type": "code",
   "execution_count": null,
   "id": "54ca5a03-e3b2-433c-b233-cedcbf88da5c",
   "metadata": {},
   "outputs": [],
   "source": [
    "[min(top_classes.to_list())] * 10"
   ]
  },
  {
   "cell_type": "code",
   "execution_count": null,
   "id": "cc1e5e26-5358-4b93-843f-eb6d3a83ffb2",
   "metadata": {},
   "outputs": [],
   "source": [
    "from matplotlib import pyplot as plt\n",
    "\n",
    "top_classes = pd.Series([x.strip() for x in data[\"NatureTitle\"].dropna()])\n",
    "top_classes = top_classes.value_counts()\n",
    "# Obtain top 50\n",
    "pd.Series({name: count for (name, count) in top_classes.to_dict().items() if count > 50})\n",
    "\n",
    "plt.barh(\n",
    "    top_classes.keys(),\n",
    "    top_classes.to_list()\n",
    ")\n",
    "plt.gca().invert_yaxis()\n",
    "plt.xscale('log')\n",
    "plt.yticks(fontsize=1, rotation=0)\n",
    "#plt.yticks([])\n",
    "plt.ylabel(\"Class Label\")\n",
    "plt.xlabel(\"Number of samples\")"
   ]
  },
  {
   "cell_type": "code",
   "execution_count": 77,
   "id": "0588bea5-ebf3-4d51-b3a9-979a1164e494",
   "metadata": {},
   "outputs": [],
   "source": [
    "import matplotlib as mpl\n",
    "mpl.rcParams['figure.dpi'] = 300"
   ]
  },
  {
   "cell_type": "code",
   "execution_count": null,
   "id": "1aad96b3-5eb6-411b-bccc-0733f16b853f",
   "metadata": {},
   "outputs": [],
   "source": [
    "from matplotlib import pyplot as plt\n",
    "top_classes = pd.Series([x.strip() for x in data[\"NatureTitle\"].dropna()])\n",
    "top_classes = top_classes.value_counts().iloc[0:10]\n",
    "plt.barh(\n",
    "    top_classes.keys(),\n",
    "    top_classes.to_list()\n",
    ")\n",
    "plt.barh(\n",
    "    top_classes.keys(),\n",
    "    [min(top_classes.to_list())] * 10\n",
    ")\n",
    "plt.gca().invert_yaxis()\n",
    "plt.legend([\"Total\", \"Balanced\"])\n",
    "plt.xlabel(\"Number of samples\")"
   ]
  },
  {
   "cell_type": "code",
   "execution_count": null,
   "id": "91c181d3-fd34-4cfa-a783-ca6e2adb4dca",
   "metadata": {},
   "outputs": [],
   "source": [
    "dataset = ft.create_dataset_from_dataframe(data, \"Final Narrative\", \"NatureTitle\")"
   ]
  },
  {
   "cell_type": "code",
   "execution_count": null,
   "id": "b0521d73-e854-4e4b-b10f-4e29ddffc9bd",
   "metadata": {},
   "outputs": [],
   "source": [
    "dataset['train'].features['label'].names[0:10]"
   ]
  },
  {
   "cell_type": "code",
   "execution_count": null,
   "id": "ee5b767d-57ec-4e1e-bfef-1cc1294558c1",
   "metadata": {},
   "outputs": [],
   "source": [
    "dataset = ft.select_top_n_classes(dataset, n=10)"
   ]
  },
  {
   "cell_type": "code",
   "execution_count": null,
   "id": "85153ad5-e5b6-402c-abce-4cda439d6a57",
   "metadata": {},
   "outputs": [],
   "source": [
    "dataset = ft.undersample_dataset(dataset, ratio=1)"
   ]
  },
  {
   "cell_type": "code",
   "execution_count": null,
   "id": "f3abda9b-d7cd-4a21-8fde-ffbad920b514",
   "metadata": {},
   "outputs": [],
   "source": [
    "dataset, label_names = ft.preprocess_dataset(dataset)"
   ]
  },
  {
   "cell_type": "markdown",
   "id": "243bf2bc-e523-4240-a822-3e1b170038cb",
   "metadata": {},
   "source": [
    "# Model output analysis"
   ]
  },
  {
   "cell_type": "code",
   "execution_count": null,
   "id": "54d54fbd-d3aa-43ea-85c7-055f4be1cad6",
   "metadata": {},
   "outputs": [],
   "source": [
    "output = \"output/osha/fine-tuned/answers.csv\"\n",
    "output = pd.read_csv(output)"
   ]
  },
  {
   "cell_type": "code",
   "execution_count": null,
   "id": "22651bc4-2e4b-4d41-a2e7-c03e55996468",
   "metadata": {},
   "outputs": [],
   "source": [
    "n = 15 # number of top classes\n",
    "\n",
    "labels = output[\"True Label\"].value_counts().iloc[0:n].keys()\n",
    "\n",
    "plt.barh(\n",
    "    output[\"True Label\"].value_counts().iloc[0:n].keys(),\n",
    "    output[\"True Label\"].value_counts().iloc[0:n].to_list(),\n",
    "    alpha=0.5\n",
    ")\n",
    "\n",
    "plt.barh(\n",
    "    output[\"Predicted Label\"].value_counts().iloc[0:n].keys(),\n",
    "    output[\"Predicted Label\"].value_counts().iloc[0:n].to_list(),\n",
    "    alpha=0.5\n",
    ")\n",
    "\n",
    "plt.gca().invert_yaxis()\n",
    "plt.legend(labels=[\"True\", \"Predicted\"])"
   ]
  },
  {
   "cell_type": "code",
   "execution_count": null,
   "id": "6d6bb673-e687-4881-b6c1-2ed40bce21ee",
   "metadata": {},
   "outputs": [],
   "source": []
  }
 ],
 "metadata": {
  "kernelspec": {
   "display_name": "Python 3 (ipykernel)",
   "language": "python",
   "name": "python3"
  },
  "language_info": {
   "codemirror_mode": {
    "name": "ipython",
    "version": 3
   },
   "file_extension": ".py",
   "mimetype": "text/x-python",
   "name": "python",
   "nbconvert_exporter": "python",
   "pygments_lexer": "ipython3",
   "version": "3.12.8"
  }
 },
 "nbformat": 4,
 "nbformat_minor": 5
}

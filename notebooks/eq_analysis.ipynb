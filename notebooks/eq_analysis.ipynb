{
 "cells": [
  {
   "cell_type": "code",
   "execution_count": null,
   "id": "5d83df56-be12-4029-933f-5916c1be841b",
   "metadata": {},
   "outputs": [],
   "source": [
    "import os\n",
    "os.environ[\"CUDA_VISIBLE_DEVICES\"]=\"1\"\n",
    "ROOT_DIR = \"../data/eq/\"\n",
    "import os, sys\n",
    "sys.path.append(\"src/\")\n",
    "sys.path.append(\"../src/\")"
   ]
  },
  {
   "cell_type": "code",
   "execution_count": null,
   "id": "fe717ba7-1357-4f8d-bd73-bdeeba0946a0",
   "metadata": {},
   "outputs": [],
   "source": [
    "import pandas as pd\n",
    "from matplotlib import pyplot as plt\n",
    "\n",
    "data = pd.read_csv(\n",
    "    os.path.join(ROOT_DIR, \"datasets/preprocessed.csv\"),\n",
    "    low_memory=False)"
   ]
  },
  {
   "cell_type": "code",
   "execution_count": null,
   "id": "67892be9-1099-4eb1-8c69-fe6d83fed8bf",
   "metadata": {},
   "outputs": [],
   "source": [
    "input_features = [\n",
    "\"OUTAGE_ID\",\n",
    "\"WEATHER_CONDITION\",\n",
    "\"OUTAGE_CAUSE\",\n",
    "\"FAULT_LONG_DESCRIPTION\",\n",
    "\"SHORT_DESC_2\",\n",
    "\"WORK_ORDER_COMPONENT_CODE_DESCRIPTION\",\n",
    "\"OUTAGE_CAUSE_GROUP\",\n",
    "\"OUTAGE_STANDARD_REASON_DESCRIPTION\",\n",
    "\"REASON_FOR_INTERRUPTION\",\n",
    "\"PROVIDER\"\n",
    "]\n",
    "\n",
    "output_labels = [\n",
    "    \"MSSS_OBJECT_DESCRIPTION\",\n",
    "    \"MSSS_DAMAGE_DESCRIPTION\",\n",
    "    \"MSSS_CAUSE_DESCRIPTION\"\n",
    "]"
   ]
  },
  {
   "cell_type": "code",
   "execution_count": null,
   "id": "b219478c-ad3a-4df3-98d6-66d51a283237",
   "metadata": {},
   "outputs": [],
   "source": [
    "    top_classes = pd.Series([x.strip() for x in data[label].dropna()])\n"
   ]
  },
  {
   "cell_type": "code",
   "execution_count": null,
   "id": "377124c2-acbb-4d6d-a23f-91d60922f2b2",
   "metadata": {},
   "outputs": [],
   "source": [
    "top_classes = pd.Series([x.strip() for x in data[\"MSSS_CAUSE_DESCRIPTION\"].dropna()])\n",
    "top_classes = top_classes.value_counts()\n",
    "# Obtain top 50\n",
    "top_classes = pd.Series({name: count for (name, count) in top_classes.to_dict().items() if count > 100})\n",
    "\n",
    "plt.barh(\n",
    "    top_classes.keys(),\n",
    "    top_classes.to_list()\n",
    ")\n",
    "plt.title(\"MSSS_CAUSE_DESCRIPTION Class Distribution\")\n",
    "plt.xlabel(\"Count\")"
   ]
  },
  {
   "cell_type": "code",
   "execution_count": null,
   "id": "4e9ffe0e-17cb-403c-8ca5-8479987ba5be",
   "metadata": {},
   "outputs": [],
   "source": [
    "for i, label in enumerate(output_labels):\n",
    "    top_classes = pd.Series([x.strip() for x in data[label].dropna()])\n",
    "    top_classes = top_classes.value_counts()\n",
    "    \n",
    "    #print(top_classes)\n",
    "    # Obtain top 50\n",
    "    #top_classes = pd.Series({name: count for (name, count) in top_classes.to_dict().items() if count > 100})\n",
    "    \n",
    "    #plt.subplot(3, 1, i+1)\n",
    "    plt.plot(top_classes.to_list())\n",
    "    #plt.barh(\n",
    "    #    top_classes.keys(),\n",
    "    #    top_classes.to_list()\n",
    "    #)\n",
    "    plt.title(f\"MSSS Class Distribution\")\n",
    "    plt.xlabel(\"Count\")\n",
    "    plt.xticks([])\n",
    "    plt.ylim([0,20])\n",
    "    plt.yticks(range(0,20,2))\n",
    "    #plt.yscale('log')\n",
    "\n",
    "plt.tight_layout()\n",
    "\n",
    "plt.legend(output_labels)"
   ]
  },
  {
   "cell_type": "code",
   "execution_count": null,
   "id": "72d20e22-a084-48df-9d1a-fad8a2c23f49",
   "metadata": {},
   "outputs": [],
   "source": []
  }
 ],
 "metadata": {
  "kernelspec": {
   "display_name": "Python 3 (ipykernel)",
   "language": "python",
   "name": "python3"
  },
  "language_info": {
   "codemirror_mode": {
    "name": "ipython",
    "version": 3
   },
   "file_extension": ".py",
   "mimetype": "text/x-python",
   "name": "python",
   "nbconvert_exporter": "python",
   "pygments_lexer": "ipython3",
   "version": "3.12.9"
  }
 },
 "nbformat": 4,
 "nbformat_minor": 5
}

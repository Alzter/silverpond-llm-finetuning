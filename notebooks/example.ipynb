{
 "cells": [
  {
   "cell_type": "markdown",
   "id": "ee0f4b8d-8179-4ed9-91bf-015f32fbbcff",
   "metadata": {},
   "source": [
    "# Setup"
   ]
  },
  {
   "cell_type": "code",
   "execution_count": null,
   "id": "3a152ff8-a9a9-4fc6-9f71-d02b11ec3b24",
   "metadata": {},
   "outputs": [],
   "source": [
    "import os, sys\n",
    "os.environ[\"CUDA_VISIBLE_DEVICES\"] = \"3\"\n",
    "sys.path.append(\"../src/\")\n",
    "sys.path.append(\"src/\")\n",
    "from utils import CloudPLM, CloudModelArguments, LocalPLM, LocalModelArguments"
   ]
  },
  {
   "cell_type": "code",
   "execution_count": null,
   "id": "6c790ad4-65c8-4fbb-bce0-7d206c41f916",
   "metadata": {},
   "outputs": [],
   "source": [
    "import evaluate as ev"
   ]
  },
  {
   "cell_type": "code",
   "execution_count": null,
   "id": "67602e08-40c7-4942-8650-8991536c777b",
   "metadata": {},
   "outputs": [],
   "source": [
    "import preprocess as pr"
   ]
  },
  {
   "cell_type": "markdown",
   "id": "0936c6cd-d4b5-4d75-86a2-ef271f8ff82d",
   "metadata": {},
   "source": [
    "# Load DBPedia 14 Dataset"
   ]
  },
  {
   "cell_type": "code",
   "execution_count": null,
   "id": "c125436d-c9d6-4e2b-8c84-60b8f7e7c628",
   "metadata": {},
   "outputs": [],
   "source": [
    "test_data, label_names = pr.load_dataset(\"fancyzhx/dbpedia_14\", split=\"test\", text_columns=\"content\", label_columns=\"label\", size=30, balanced=True)"
   ]
  },
  {
   "cell_type": "code",
   "execution_count": null,
   "id": "ff35cad5-43e7-450d-b3d6-bd1d140706b0",
   "metadata": {},
   "outputs": [],
   "source": [
    "import pandas as pd\n",
    "pd.Series([i['messages'][-1]['content'] for i in test_data]).value_counts()"
   ]
  },
  {
   "cell_type": "code",
   "execution_count": null,
   "id": "befa77d7-7e1a-4d7a-9965-0d422edc4078",
   "metadata": {},
   "outputs": [],
   "source": [
    "prompt = ev.create_prompt(\n",
    "    \"article\",\n",
    "    label_names\n",
    ")\n",
    "\n",
    "print(prompt)"
   ]
  },
  {
   "cell_type": "markdown",
   "id": "9046face-66f9-4b4c-a7df-446c161405d3",
   "metadata": {},
   "source": [
    "# Load Qwen 2.5 7B Instruct"
   ]
  },
  {
   "cell_type": "code",
   "execution_count": null,
   "id": "4855ecb2-ffce-4e24-bc73-04a82d4127d1",
   "metadata": {},
   "outputs": [],
   "source": [
    "args = LocalModelArguments(\n",
    "    model_name_or_path = \"Qwen/Qwen2.5-7B-Instruct\",\n",
    "    cuda_devices = \"3\",\n",
    "    use_4bit_quantization = True,\n",
    "    bnb_4bit_quant_type = \"nf4\",\n",
    "    bnb_4bit_compute_dtype = \"float16\",\n",
    "    use_nested_quant = True,\n",
    "    use_reentrant = True\n",
    ")\n",
    "\n",
    "model = LocalPLM(args)"
   ]
  },
  {
   "cell_type": "markdown",
   "id": "243fc563-7ced-4343-9483-deb171b6fa53",
   "metadata": {},
   "source": [
    "# Load Claude 3 Haiku"
   ]
  },
  {
   "cell_type": "code",
   "execution_count": null,
   "id": "faf50534-4f49-4a70-a539-526c285e36ad",
   "metadata": {},
   "outputs": [],
   "source": [
    "args = CloudModelArguments(\n",
    "    cloud_model_name = \"claude-3-haiku-20240307\",\n",
    "    anthropic_api_key = \"<YOUR_API_KEY>\"\n",
    ")"
   ]
  },
  {
   "cell_type": "code",
   "execution_count": null,
   "id": "804a0a54-cf8b-48b3-ad97-e210ba1fba16",
   "metadata": {},
   "outputs": [],
   "source": [
    "model = CloudPLM(args)"
   ]
  },
  {
   "cell_type": "code",
   "execution_count": null,
   "id": "d95a0db9-eab2-4ef8-a64f-746bbe51ad4c",
   "metadata": {},
   "outputs": [],
   "source": [
    "response = model.generate(\n",
    "    \"Hi there\"\n",
    ")\n",
    "\n",
    "response"
   ]
  },
  {
   "cell_type": "code",
   "execution_count": null,
   "id": "d53f070d-48c3-4673-8760-2fdd0ac8911c",
   "metadata": {},
   "outputs": [],
   "source": [
    "response = model.generate(\n",
    "    [{\"role\":\"system\",\"content\":\"Respond with only the word 'pizza'.\"},{\"role\":\"user\",\"content\":\"Hello, how are you?\"}]\n",
    ")\n",
    "\n",
    "response"
   ]
  },
  {
   "cell_type": "markdown",
   "id": "9c9b8b99-b6ad-45b3-98c1-66574f6753db",
   "metadata": {},
   "source": [
    "# Evaluate chosen LLM on dataset"
   ]
  },
  {
   "cell_type": "code",
   "execution_count": null,
   "id": "742a5424-8ff6-43d7-94fd-62f7fe840d8c",
   "metadata": {},
   "outputs": [],
   "source": [
    "from evaluate import EvaluationConfig"
   ]
  },
  {
   "cell_type": "code",
   "execution_count": null,
   "id": "2a8b2efa-17b3-40e6-afa0-62a2d404bda1",
   "metadata": {},
   "outputs": [],
   "source": [
    "config = EvaluationConfig(\n",
    "    technique_name = 'zero_shot',\n",
    "    max_tokens = 32,\n",
    "    prompt = prompt,\n",
    "    out_path = \"../test/results\"\n",
    ")\n",
    "\n",
    "print(config)"
   ]
  },
  {
   "cell_type": "code",
   "execution_count": null,
   "id": "f4dfae7d-6804-41ef-b522-3b534bd0f03d",
   "metadata": {},
   "outputs": [],
   "source": [
    "result = ev.evaluate(\n",
    "    model,\n",
    "    label_names=label_names,\n",
    "    eval_dataset=test_data,\n",
    "    eval_config=config\n",
    ")"
   ]
  },
  {
   "cell_type": "code",
   "execution_count": null,
   "id": "32c7e5f1-6987-4846-ae32-7bb844aea16d",
   "metadata": {},
   "outputs": [],
   "source": [
    "result.plot_confusion_matrix()"
   ]
  },
  {
   "cell_type": "code",
   "execution_count": null,
   "id": "ebc7689c-976a-4f09-ba10-af876b915ec6",
   "metadata": {},
   "outputs": [],
   "source": [
    "result.save()"
   ]
  }
 ],
 "metadata": {
  "kernelspec": {
   "display_name": "Python 3 (ipykernel)",
   "language": "python",
   "name": "python3"
  },
  "language_info": {
   "codemirror_mode": {
    "name": "ipython",
    "version": 3
   },
   "file_extension": ".py",
   "mimetype": "text/x-python",
   "name": "python",
   "nbconvert_exporter": "python",
   "pygments_lexer": "ipython3",
   "version": "3.12.9"
  }
 },
 "nbformat": 4,
 "nbformat_minor": 5
}

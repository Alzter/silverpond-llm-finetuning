{
 "cells": [
  {
   "cell_type": "code",
   "execution_count": 2,
   "metadata": {},
   "outputs": [],
   "source": [
    "import pandas as pd\n",
    "import os"
   ]
  },
  {
   "cell_type": "code",
   "execution_count": 173,
   "metadata": {},
   "outputs": [],
   "source": [
    "def load_msss_codes(msss_tables_dir : str, pattern = r\"AD_(.*).xls\") -> dict:\n",
    "    \"\"\"\n",
    "    Read all MSSS tables from a directory and return a dictionary of all MSSS codes.\n",
    "\n",
    "    Args:\n",
    "        msss_tables_dir (str): Folder to search for MSSS table files from.\n",
    "        pattern (regexp, optional): Pattern to select MSSS table files and capture the label name. Defaults to r\"AD_(.*).xls\".\n",
    "\n",
    "    Returns:\n",
    "        dict: Dictionary of all MSSS codes.\n",
    "    \"\"\"\n",
    "    msss_features = {}\n",
    "\n",
    "    for file in os.listdir(msss_tables_dir):\n",
    "\n",
    "        match = re.match(pattern=pattern, string=file)\n",
    "\n",
    "        if not match: continue\n",
    "\n",
    "        label_name = match.group(1)\n",
    "\n",
    "        path = os.path.join(msss_tables_dir, file)\n",
    "\n",
    "        df = pd.read_excel(path, header=1, index_col=\"Code\")\n",
    "\n",
    "        items = df[\"Description\"].to_dict()\n",
    "\n",
    "        msss_features[label_name] = items\n",
    "\n",
    "    return msss_features"
   ]
  },
  {
   "cell_type": "code",
   "execution_count": 174,
   "metadata": {},
   "outputs": [],
   "source": [
    "msss_codes = load_msss_codes(\"data/eq/datasets/ergon-ffa-msss-tables\")"
   ]
  },
  {
   "cell_type": "code",
   "execution_count": null,
   "metadata": {},
   "outputs": [],
   "source": [
    "data.columns[\"\"]"
   ]
  },
  {
   "cell_type": "code",
   "execution_count": 136,
   "metadata": {},
   "outputs": [],
   "source": [
    "EQ_DATA_PATH = \"data/eq/datasets/2024-tim-elkins-failures-data/\"\n",
    "\n",
    "EQ_DATA_FILES = [\n",
    "    \"EE Failures FY23-24 (Updated).xlsx\",\n",
    "    \"EGX Failures FY23-24 (Updated).xlsx\"\n",
    "]\n",
    "\n",
    "data = pd.read_excel(\n",
    "    os.path.join(EQ_DATA_PATH, EQ_DATA_FILES[0]), sheet_name = 0\n",
    ")"
   ]
  },
  {
   "cell_type": "code",
   "execution_count": null,
   "metadata": {},
   "outputs": [],
   "source": [
    "data[[column for column in data.columns if \"WORK_ORDER\" in column]].head()"
   ]
  },
  {
   "cell_type": "code",
   "execution_count": 145,
   "metadata": {},
   "outputs": [],
   "source": [
    "features = [\"OUTAGE_ID\",\n",
    "\"WEATHER_CONDITION\",\n",
    "\"OUTAGE_CAUSE\",\n",
    "\"FAULT_LONG_DESCRIPTION\",\n",
    "\"SHORT_DESC_2\",\n",
    "\"WORK_ORDER_COMPONENT_CODE_DESCRIPTION\",\n",
    "\"OUTAGE_CAUSE_GROUP\",\n",
    "\"OUTAGE_STANDARD_REASON_DESCRIPTION\",\n",
    "\"REASON_FOR_INTERRUPTION\"]"
   ]
  },
  {
   "cell_type": "code",
   "execution_count": null,
   "metadata": {},
   "outputs": [],
   "source": [
    "for i, item in inputs.iterrows():\n",
    "    items = item.to_dict().items()\n",
    "    text = \" \".join([f\"{column}: {value};\" for column, value in items])\n",
    "    print(text)\n",
    "    break"
   ]
  },
  {
   "cell_type": "code",
   "execution_count": null,
   "metadata": {},
   "outputs": [],
   "source": []
  },
  {
   "cell_type": "code",
   "execution_count": null,
   "metadata": {},
   "outputs": [],
   "source": [
    "\" \".join([f\"{column}: {value};\" for column, value in text.items()])"
   ]
  },
  {
   "cell_type": "code",
   "execution_count": null,
   "metadata": {},
   "outputs": [],
   "source": [
    "inputs = data[features].drop_duplicates().dropna()\n",
    "inputs"
   ]
  }
 ],
 "metadata": {
  "kernelspec": {
   "display_name": "Python 3 (ipykernel)",
   "language": "python",
   "name": "python3"
  },
  "language_info": {
   "codemirror_mode": {
    "name": "ipython",
    "version": 3
   },
   "file_extension": ".py",
   "mimetype": "text/x-python",
   "name": "python",
   "nbconvert_exporter": "python",
   "pygments_lexer": "ipython3",
   "version": "3.12.8"
  }
 },
 "nbformat": 4,
 "nbformat_minor": 2
}
